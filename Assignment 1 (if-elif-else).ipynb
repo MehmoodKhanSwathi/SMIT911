{
 "cells": [
  {
   "cell_type": "markdown",
   "metadata": {},
   "source": [
    "Q1) A Company decided to give bonus of 5% to employee if his/her year of services is more than 5 year.Ask user for their salary and year of service  and print  the net bonus amount?"
   ]
  },
  {
   "cell_type": "code",
   "execution_count": 7,
   "metadata": {},
   "outputs": [
    {
     "name": "stdout",
     "output_type": "stream",
     "text": [
      "sorry your are not eligible for this bonus.\n"
     ]
    }
   ],
   "source": [
    "salary=float(input (\"Enter your Salary:\"))\n",
    "year_of_services=int(input(\"Enter your year of services\"))\n",
    "\n",
    "if year_of_services >5:\n",
    "    bonus_percentage=5\n",
    "    net_bonus=(bonus_percentage/100)*salary\n",
    "    print(f\"Congraulation! you are eligible for {bonus_percentage}%bonus.\")\n",
    "    print(f\"net bonus amount:${net_bonus:.2f }\")\n",
    "else:\n",
    "    print(f\"sorry your are not eligible for this bonus.\")"
   ]
  },
  {
   "cell_type": "markdown",
   "metadata": {},
   "source": [
    "Q2) Write a program to check whether a person is sligible for voting  or not.(accept age from user ) if age is greater than 17 eligible otherwise not eligible?\n"
   ]
  },
  {
   "cell_type": "code",
   "execution_count": 8,
   "metadata": {},
   "outputs": [
    {
     "name": "stdout",
     "output_type": "stream",
     "text": [
      "You are eligible to vote.\n"
     ]
    }
   ],
   "source": [
    "age = int(input(\"Enter your age: \"))\n",
    "if age >= 17:\n",
    "    print(\"You are eligible to voting.\")\n",
    "else:\n",
    "    print(\"You are not eligible to voting.\")"
   ]
  },
  {
   "cell_type": "markdown",
   "metadata": {},
   "source": [
    "Q3)Write a program to check whether a number enter by user is even or odd?"
   ]
  },
  {
   "cell_type": "code",
   "execution_count": 10,
   "metadata": {},
   "outputs": [
    {
     "name": "stdout",
     "output_type": "stream",
     "text": [
      " 7 is Odd\n"
     ]
    }
   ],
   "source": [
    "num = int(input(\"Enter a number: \"))\n",
    "\n",
    "if (num % 2) == 0:\n",
    "            print(\" {0} is Even\".format(num))\n",
    "else:\n",
    "            print(\" {0} is Odd\".format(num))"
   ]
  },
  {
   "cell_type": "markdown",
   "metadata": {},
   "source": [
    "Q4)Write a program to check whether a number is divisible by 7 or not .Show answer?"
   ]
  },
  {
   "cell_type": "code",
   "execution_count": 15,
   "metadata": {},
   "outputs": [
    {
     "name": "stdout",
     "output_type": "stream",
     "text": [
      " is divisible by 7\n"
     ]
    }
   ],
   "source": [
    "num=int(input(\"enter a number\"))\n",
    "\n",
    "if(num%7)==0:\n",
    "        print(f\" is divisible by 7\")\n",
    "else:\n",
    "        print(f\" Not divisible by 7\")"
   ]
  },
  {
   "cell_type": "markdown",
   "metadata": {},
   "source": [
    "Q5)Write a program to display\"hello\" if a number entered by user is a multiple of Five, otherwise print \"bye\"\n"
   ]
  },
  {
   "cell_type": "code",
   "execution_count": 17,
   "metadata": {},
   "outputs": [
    {
     "name": "stdout",
     "output_type": "stream",
     "text": [
      "enter a number\n",
      "bye\n"
     ]
    }
   ],
   "source": [
    "print(f\"enter  number\")\n",
    "num=int(input(\"enter a number\"))\n",
    "if (num%5)==0:\n",
    "        print(f\"hello\")\n",
    "else:\n",
    "        print(f\"bye\")"
   ]
  },
  {
   "cell_type": "markdown",
   "metadata": {},
   "source": [
    "Q6)Write a program to calculate the electricity bill (accept number of unit from user) according to the following criteria:unit price uptp 100 unit no charges Next 200 units Rs 5per unit after 200 unit Rs 10 per unit(for Example: if input unit is 350 than total bill amount is Rs.3500)"
   ]
  },
  {
   "cell_type": "code",
   "execution_count": 28,
   "metadata": {},
   "outputs": [
    {
     "name": "stdout",
     "output_type": "stream",
     "text": [
      "The electricity bill for 200 units is Rs 500.00\n"
     ]
    }
   ],
   "source": [
    "units = int(input(\"Enter the number of units: \"))\n",
    "\n",
    "if units <= 100:\n",
    "    bill = units * 0\n",
    "elif units <= 300:\n",
    "    bill = (units - 100) * 5\n",
    "else:\n",
    "    bill = 100 * 0 + 200 * 5 + (units - 300) * 10\n",
    "\n",
    "print(f\"The electricity bill {units} units is Rs {bill:.2f}\")"
   ]
  },
  {
   "cell_type": "markdown",
   "metadata": {},
   "source": [
    "Q7)Write a program to display the last digit of number?\n"
   ]
  },
  {
   "cell_type": "code",
   "execution_count": 32,
   "metadata": {},
   "outputs": [
    {
     "name": "stdout",
     "output_type": "stream",
     "text": [
      "the last_digit12345 is 5\n"
     ]
    }
   ],
   "source": [
    "num=12345\n",
    "numtostr = str(num)\n",
    "last_digit= numtostr[-1]\n",
    "print(f\"the last_digit{num} is {last_digit}\")"
   ]
  },
  {
   "cell_type": "markdown",
   "metadata": {},
   "source": [
    "Q8)Write a program to check whether the last digit of a number(enter by user)is divisible by 3 or not"
   ]
  },
  {
   "cell_type": "code",
   "execution_count": 34,
   "metadata": {},
   "outputs": [
    {
     "name": "stdout",
     "output_type": "stream",
     "text": [
      "The last digit of the number not divisible by 3.\n"
     ]
    }
   ],
   "source": [
    "number = int(input(\"Enter a number: \"))\n",
    "if number % 10 % 3 == 0:\n",
    "    print(\"The last digit of the number divisible by 3.\")\n",
    "else:\n",
    "    print(\"The last digit of the number not divisible by 3.\")"
   ]
  },
  {
   "cell_type": "markdown",
   "metadata": {},
   "source": [
    "Q9)Take a value of length and breath of a rectangle from user and print if it is square of rectangle?"
   ]
  },
  {
   "cell_type": "code",
   "execution_count": 36,
   "metadata": {},
   "outputs": [
    {
     "name": "stdout",
     "output_type": "stream",
     "text": [
      "the figure is not a square\n"
     ]
    }
   ],
   "source": [
    "a=int(input(\"enter the length of the figure\"))\n",
    "\n",
    "b=int(input(\"enter the breadth of the figure\"))\n",
    "\n",
    "if a==b:\n",
    "\n",
    "  print(\"the figure is a square\")\n",
    "\n",
    "else:\n",
    "\n",
    "  print(\"the figure is not a square\")"
   ]
  },
  {
   "cell_type": "markdown",
   "metadata": {},
   "source": [
    "Q10)Take two int value from user and print greatest among them?"
   ]
  },
  {
   "cell_type": "code",
   "execution_count": 37,
   "metadata": {},
   "outputs": [
    {
     "name": "stdout",
     "output_type": "stream",
     "text": [
      "The largest number is 10\n"
     ]
    }
   ],
   "source": [
    "a = 5\n",
    "b = 10\n",
    "largest = max(a, b)\n",
    "print(f\"The largest number is\", largest)"
   ]
  },
  {
   "cell_type": "markdown",
   "metadata": {},
   "source": [
    "Q11) A shop will given  discount of 10% if the cost of purchased quantity is more than 1000.Ask user for quantity suppose, one unit will cost 100 judge and print total cost for user?"
   ]
  },
  {
   "cell_type": "code",
   "execution_count": 41,
   "metadata": {},
   "outputs": [
    {
     "name": "stdout",
     "output_type": "stream",
     "text": [
      "90.0\n"
     ]
    }
   ],
   "source": [
    "price = 100\n",
    "discount = 10\n",
    "discounted_price = price - (price * discount / 100)\n",
    "\n",
    "print(discounted_price)"
   ]
  },
  {
   "cell_type": "markdown",
   "metadata": {},
   "source": [
    "Q12)A school has following rule for grading system:\n",
    "a.)Below 25-F\n",
    "b.)25 to 45-E\n",
    "c.)45 to 50-D\n",
    "d.)50 to 60-c\n",
    "e.)60 to 80-B\n",
    "f.)above 80-A\n",
    "Ask user to enter marks and print the corresponding grade?"
   ]
  },
  {
   "cell_type": "code",
   "execution_count": 45,
   "metadata": {},
   "outputs": [
    {
     "name": "stdout",
     "output_type": "stream",
     "text": [
      "A\n"
     ]
    }
   ],
   "source": [
    "marks = input(\"Enter your score\")\n",
    "\n",
    "marks = int(marks)\n",
    "\n",
    "if marks < 25:  \n",
    "\n",
    "   print(\"F\")\n",
    "\n",
    "elif marks >= 25 and marks < 45:  \n",
    "\n",
    "   print(\"E\")\n",
    "\n",
    "elif marks >= 45 and marks < 50:  \n",
    "\n",
    "   print(\"D\")\n",
    "\n",
    "elif marks >= 50 and marks < 60:  \n",
    "\n",
    "   print(\"C\")\n",
    "\n",
    "elif marks >= 60 and marks < 80:  \n",
    "\n",
    "   print(\"B\")\n",
    "\n",
    "else:  \n",
    "\n",
    "   print(\"A\")"
   ]
  },
  {
   "cell_type": "markdown",
   "metadata": {},
   "source": [
    "Q13)Take input of age of 3 people  by user and determine the oldest and youngest among them?"
   ]
  },
  {
   "cell_type": "code",
   "execution_count": 44,
   "metadata": {},
   "outputs": [
    {
     "name": "stdout",
     "output_type": "stream",
     "text": [
      "the oldest person are 14 year old.\n",
      "the youngst person are12 year old.\n"
     ]
    }
   ],
   "source": [
    "age1=int(input(\"enter age of person 1:\"))\n",
    "age2=int(input(\"enter age of person 2: \"))\n",
    "age3=int(input(\"enter age of person 3:\"))\n",
    "\n",
    "oldest=max(age1,age2,age3)\n",
    "youngest=min(age1,age2,age3)\n",
    "\n",
    "print(f\"the oldest person are {oldest} year old.\")\n",
    "print(f\"the youngst person are{youngest} year old.\")"
   ]
  },
  {
   "cell_type": "markdown",
   "metadata": {},
   "source": [
    "Q14)A student will not be allowed to sit in exam if his/her attendence is less than 75%.\n",
    "Taking following input from user,\n",
    "number of class held,\n",
    "number of class attended,\n",
    "And print,\n",
    "percentage of class attended,\n",
    "is student is allowed to sit in exam or not."
   ]
  },
  {
   "cell_type": "code",
   "execution_count": 11,
   "metadata": {},
   "outputs": [
    {
     "name": "stdout",
     "output_type": "stream",
     "text": [
      "he will not be able to sit in exam:\n"
     ]
    }
   ],
   "source": [
    "class_held=int(input(\"Enter the number of class held:\"))\n",
    "class_attended=int(input(\"Enter the number of class attended\"))\n",
    "\n",
    "percentage_of_class_attended=(class_attended*100)/class_held\n",
    "\n",
    "if percentage_of_class_attended > 75:\n",
    "    print(f\"he will sit in exam:\")\n",
    "else:\n",
    "    print(f\"he will not be able to sit in exam:\")"
   ]
  },
  {
   "cell_type": "markdown",
   "metadata": {},
   "source": [
    "Q15)Modify the above question to allow student to sit if he/she has medical cause .Ask user if she/he has medical cause or not(\"Y\"or\"N\") and print accordingly"
   ]
  },
  {
   "cell_type": "code",
   "execution_count": 44,
   "metadata": {},
   "outputs": [
    {
     "name": "stdout",
     "output_type": "stream",
     "text": [
      "He will not be able to sit in exam\n",
      "No, Also have no medical issue\n"
     ]
    }
   ],
   "source": [
    "class_held=int(input(\"Enter the number of class held:\"))\n",
    "class_attended=int(input(\"Enter the number of class attended\"))\n",
    "\n",
    "percentage_of_class_attended=(class_attended*100)/class_held\n",
    "\n",
    "medical_cause = input(\"Do you have a medical case? (Enter 'y' or ' n'):\")\n",
    "\n",
    "if percentage_of_class_attended > 75:\n",
    "    print(f\"He will sit in exam\")\n",
    "else:\n",
    "    if medical_cause == 'y':\n",
    "        print(\"Yes, Can sit becuase of mdeical cause\")\n",
    "    else:\n",
    "        print(f\"He will not be able to sit in exam\")\n",
    "        print(\"No, Also have no medical issue\")"
   ]
  },
  {
   "cell_type": "markdown",
   "metadata": {},
   "source": [
    "Q16)Write a program to check  if a year is leap or not?"
   ]
  },
  {
   "cell_type": "code",
   "execution_count": 67,
   "metadata": {},
   "outputs": [
    {
     "name": "stdout",
     "output_type": "stream",
     "text": [
      "1600 is leap year\n",
      "1600 is leap year\n"
     ]
    }
   ],
   "source": [
    "\n",
    "year = int(input(\"Enter a Year\"))\n",
    "\n",
    "if(year%4==0) and (year%100==0) and (year%400 ==0):\n",
    "    print(f\"{year} is leap year\")\n",
    "    print(\"{0} is leap year\".format(year))\n",
    "else:\n",
    "    print(f\"{year} is not leap year\")\n"
   ]
  },
  {
   "cell_type": "code",
   "execution_count": 72,
   "metadata": {},
   "outputs": [
    {
     "name": "stdout",
     "output_type": "stream",
     "text": [
      "1600 is a leap year\n"
     ]
    }
   ],
   "source": [
    "year = int(input(\"Enter a Year\"))\n",
    "\n",
    "if (year % 4 == 0):\n",
    "    if (year % 100 == 0):\n",
    "        if (year % 400 == 0):\n",
    "            print(f\"{year} is a leap year\")\n",
    "        else:\n",
    "            print(\"{0} is not a leap year\".format(year))\n",
    "    else:\n",
    "        print(\"{0} is a not leap year\".format(year))\n",
    "else:\n",
    "    print(\"{0} is not a leap year\".format(year))"
   ]
  },
  {
   "cell_type": "markdown",
   "metadata": {},
   "source": [
    "Q17)Ask user to enter age, gender,(M orF),marital status(Y or N) and then using following rules print their place of services.\n",
    "if employee is female,then she will work only in urban areas.\n",
    "if employee is male and age is in between 20 to 40 then he may work in anywhere\n",
    "if employee is male and age is in between 40 to 60 then he will work in urban areas only\n",
    "And any other input of age should print \"ERROR\" "
   ]
  },
  {
   "cell_type": "code",
   "execution_count": 90,
   "metadata": {},
   "outputs": [
    {
     "name": "stdout",
     "output_type": "stream",
     "text": [
      "Error\n"
     ]
    }
   ],
   "source": [
    "age=int(input(\"enter age:\"))\n",
    "gender=(input(\"enter  gender M or F\"))\n",
    "martial_status=(input(\"enter status y or N\"))\n",
    "\n",
    "if(gender =='F'):\n",
    "    print(\"she will work in urban areas\")\n",
    "else:\n",
    "    if (age>20) and (age<40):\n",
    "        print(\"he is between 20 and 40\")\n",
    "        print(\"he will work anywhere\")\n",
    "    elif (age>40) and (age<60):\n",
    "        print(\"he will work in urban areas\")\n",
    "    else:\n",
    "        print(\"Error\")"
   ]
  },
  {
   "cell_type": "code",
   "execution_count": null,
   "metadata": {},
   "outputs": [],
   "source": []
  }
 ],
 "metadata": {
  "kernelspec": {
   "display_name": "base",
   "language": "python",
   "name": "python3"
  },
  "language_info": {
   "codemirror_mode": {
    "name": "ipython",
    "version": 3
   },
   "file_extension": ".py",
   "mimetype": "text/x-python",
   "name": "python",
   "nbconvert_exporter": "python",
   "pygments_lexer": "ipython3",
   "version": "3.11.5"
  }
 },
 "nbformat": 4,
 "nbformat_minor": 2
}
